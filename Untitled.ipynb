{
 "cells": [
  {
   "cell_type": "code",
   "execution_count": 1,
   "id": "2897744c",
   "metadata": {},
   "outputs": [],
   "source": [
    "# Reading data files\n",
    "from pathlib import Path\n",
    "import subprocess\n",
    "import xml.etree.ElementTree as ET\n",
    "import numpy as np\n",
    "from scipy import io as sio\n",
    "# Basic visualization\n",
    "import matplotlib.pyplot as plt\n",
    "from matplotlib import animation, rc\n",
    "from matplotlib.collections import PatchCollection\n",
    "from matplotlib.colors import ListedColormap\n",
    "import seaborn as sns\n",
    "\n",
    "\n",
    "%matplotlib inline"
   ]
  },
  {
   "cell_type": "code",
   "execution_count": 2,
   "id": "5b392355",
   "metadata": {},
   "outputs": [],
   "source": [
    "class Microenvironment:\n",
    "    def __init__(self, time, storage_path):\n",
    "\n",
    "        self.storage = storage_path\n",
    "\n",
    "        self.time = time\n",
    "        self.substances = self.get_substances()\n",
    "        self.mesh = self.get_mesh()\n",
    "        self.mesh_shape = (len(self.mesh[1]), len(self.mesh[0]))\n",
    "\n",
    "        self.data = self.get_data()\n",
    "\n",
    "    def get_substances(self):\n",
    "        \"\"\"Returns a list of the substances stored in the XML output files.\"\"\"\n",
    "\n",
    "        # Open the first XML file to get list of stored substances\n",
    "        tree = ET.parse(self.storage / 'output00000000.xml')\n",
    "        root = tree.getroot()\n",
    "        var_node = root.find('microenvironment/domain/variables')\n",
    "        var_children = var_node.findall('variable')\n",
    "        variables = [var.get('name') for var in var_children]\n",
    "\n",
    "        return variables\n",
    "\n",
    "    def get_mesh(self):\n",
    "        \"\"\"Returns a list with the coordinates of the microenvironment mesh.\"\"\"\n",
    "        \n",
    "        # Open the first XML file to get list of stored substances\n",
    "        tree = ET.parse(self.storage / 'output00000000.xml')\n",
    "        root = tree.getroot()\n",
    "        mesh_node = root.find('microenvironment/domain/mesh')\n",
    "\n",
    "        # Get x, y and z coordinates\n",
    "        # X coordinates\n",
    "        coord_str = mesh_node.find('x_coordinates').text\n",
    "        delimiter = mesh_node.find('x_coordinates').get('delimiter')\n",
    "        x_coords = np.array(coord_str.split(delimiter), dtype=np.float)\n",
    "        # Y coordinates\n",
    "        coord_str = mesh_node.find('y_coordinates').text\n",
    "        delimiter = mesh_node.find('y_coordinates').get('delimiter')\n",
    "        y_coords = np.array(coord_str.split(delimiter), dtype=np.float)\n",
    "        # Z coordinates\n",
    "        coord_str = mesh_node.find('z_coordinates').text\n",
    "        delimiter = mesh_node.find('z_coordinates').get('delimiter')\n",
    "        z_coords = np.array(coord_str.split(delimiter), dtype=np.float)\n",
    "\n",
    "        return [x_coords, y_coords, z_coords]\n",
    "\n",
    "\n",
    "    def get_substance_data(self, substance):\n",
    "        \"\"\"Returns an array with the substance concentrations for all the planes of the domain.\"\"\"\n",
    "\n",
    "        timestep = str(self.time).zfill(8)\n",
    "\n",
    "        me_file = self.storage / \\\n",
    "            'output{}_microenvironment0.mat'.format(timestep)\n",
    "\n",
    "        # Load substance data\n",
    "        me_data = sio.loadmat(me_file)['multiscale_microenvironment']\n",
    "\n",
    "        # Select the data corresponding to the chosen substance\n",
    "        substance_index = self.substances.index(substance)\n",
    "        substance_data = np.array([np.reshape(me_data[substance_index + 4, me_data[2, :] == z_level],\n",
    "                                              self.mesh_shape)\n",
    "                                   for z_level in self.mesh[2]])\n",
    "\n",
    "        return substance_data\n",
    "    \n",
    "    def get_data(self):\n",
    "        \"\"\"Returns a dictionary with the data for all the substances in the simulation.\"\"\"\n",
    "\n",
    "        me_data = {substance: self.get_substance_data(substance)\n",
    "                   for substance in self.substances}\n",
    "\n",
    "        return me_data\n",
    "\n",
    "    def plot_heatmap(self, z_level):\n",
    "        fig, axes = plt.subplots(2, 2, figsize=(8, 12))\n",
    "        axes = axes.flatten()\n",
    "        \n",
    "        z_index = np.where(self.mesh[2] == z_level)\n",
    "\n",
    "        for sub_index, ax in enumerate(axes):\n",
    "            data = self.data[self.substances[sub_index]][z_index][0]\n",
    "            max_value = data.max()\n",
    "            sns.heatmap(data,\n",
    "                        ax=axes[sub_index],\n",
    "                        xticklabels=False, yticklabels=False,\n",
    "                        vmin=0, vmax=max_value,\n",
    "                        square=True,\n",
    "                        cmap='YlGnBu_r')\n",
    "\n",
    "            ax.set_title(f'Substance: {self.substances[sub_index]}')\n",
    "            \n",
    "        return fig, axes\n",
    "    \n",
    "    \n",
    "class Cells:\n",
    "    def __init__(self, time, storage_path):\n",
    "        self.time = time\n",
    "        self.storage = storage_path\n",
    "        \n",
    "        self.positions = self.get_cell_positions()\n",
    "        \n",
    "    def get_cell_positions(self):\n",
    "        \"\"\"Returns a dictionary with the cell output data for the selected variables.\"\"\"\n",
    "        \n",
    "        variables = ['position_x', 'position_y', 'position_z']\n",
    "\n",
    "        # All possible output variables written by PhysiCell\n",
    "        data_labels = [\n",
    "            'ID',\n",
    "            'position_x', 'position_y', 'position_z',\n",
    "            'total_volume',\n",
    "            'cell_type',\n",
    "            'cycle_model', 'current_phase', 'elapsed_time_in_phase',\n",
    "            'nuclear_volume', 'cytoplasmic_volume',\n",
    "            'fluid_fraction', 'calcified_fraction',\n",
    "            'orientation_x', 'orientation_y', 'orientation_z',\n",
    "            'polarity',\n",
    "            'migration_speed',\n",
    "            'motility_vector_x', 'motility_vector_y', 'motility_vector_z',\n",
    "            'migration_bias',\n",
    "            'motility_bias_direction_x', 'motility_bias_direction_y', 'motility_bias_direction_z',\n",
    "            'persistence_time',\n",
    "            'motility_reserved'\n",
    "        ]\n",
    "\n",
    "        # Create path name\n",
    "        time_str = str(self.time).zfill(8)\n",
    "        file_name = 'output{}_cells_physicell.mat'.format(time_str)\n",
    "        path_name = self.storage / file_name\n",
    "\n",
    "        # Read output file\n",
    "        cell_data = sio.loadmat(path_name)['cells']\n",
    "\n",
    "        # Select and save the variables of interest\n",
    "        variables_indexes = [data_labels.index(var) for var in variables]\n",
    "        cells = {var: cell_data[index, :]\n",
    "                 for var, index in zip (variables, variables_indexes)}\n",
    "        \n",
    "        coordinates = [(x, y, z)\n",
    "                       for x, y, z in zip(cells['position_x'], \n",
    "                                          cells['position_y'],\n",
    "                                          cells['position_z'])]\n",
    "\n",
    "        return coordinates"
   ]
  },
  {
   "cell_type": "code",
   "execution_count": 63,
   "id": "52503f35",
   "metadata": {},
   "outputs": [
    {
     "name": "stderr",
     "output_type": "stream",
     "text": [
      "C:\\Users\\Ines\\AppData\\Local\\Temp\\ipykernel_6524\\2314125988.py:37: DeprecationWarning: `np.float` is a deprecated alias for the builtin `float`. To silence this warning, use `float` by itself. Doing this will not modify any behavior and is safe. If you specifically wanted the numpy scalar type, use `np.float64` here.\n",
      "Deprecated in NumPy 1.20; for more details and guidance: https://numpy.org/devdocs/release/1.20.0-notes.html#deprecations\n",
      "  x_coords = np.array(coord_str.split(delimiter), dtype=np.float)\n",
      "C:\\Users\\Ines\\AppData\\Local\\Temp\\ipykernel_6524\\2314125988.py:41: DeprecationWarning: `np.float` is a deprecated alias for the builtin `float`. To silence this warning, use `float` by itself. Doing this will not modify any behavior and is safe. If you specifically wanted the numpy scalar type, use `np.float64` here.\n",
      "Deprecated in NumPy 1.20; for more details and guidance: https://numpy.org/devdocs/release/1.20.0-notes.html#deprecations\n",
      "  y_coords = np.array(coord_str.split(delimiter), dtype=np.float)\n",
      "C:\\Users\\Ines\\AppData\\Local\\Temp\\ipykernel_6524\\2314125988.py:45: DeprecationWarning: `np.float` is a deprecated alias for the builtin `float`. To silence this warning, use `float` by itself. Doing this will not modify any behavior and is safe. If you specifically wanted the numpy scalar type, use `np.float64` here.\n",
      "Deprecated in NumPy 1.20; for more details and guidance: https://numpy.org/devdocs/release/1.20.0-notes.html#deprecations\n",
      "  z_coords = np.array(coord_str.split(delimiter), dtype=np.float)\n"
     ]
    },
    {
     "data": {
      "image/png": "[encoded data removed]",
      "text/plain": [
       "<Figure size 864x504 with 6 Axes>"
      ]
     },
     "metadata": {
      "needs_background": "light"
     },
     "output_type": "display_data"
    }
   ],
   "source": [
    "# Select the time point and the z-plane to visualize\n",
    "time = 8\n",
    "z_level = 0\n",
    "cmap = 'Reds'\n",
    "output_path = Path('../../../glucose/physicell-cluster-template/output/')\n",
    "\n",
    "# Read data\n",
    "me = Microenvironment(time, output_path)\n",
    "\n",
    "# Create a figure\n",
    "fig, axes = plt.subplots(1, 3, figsize=(12, 7))\n",
    "\n",
    "# Loop through each subfigure and match i with a substance\n",
    "for ax_index, substance in enumerate(['glucose', 'oxygen', 'collagen']):\n",
    "    \n",
    "    # Select subfigure\n",
    "    ax = axes[ax_index]\n",
    "    # Plot the heatmap\n",
    "    sns.heatmap(me.data[substance][z_level],\n",
    "                ax=ax,\n",
    "                xticklabels=False, yticklabels=False,\n",
    "                cmap=cmap,\n",
    "                square=True, vmin=0, vmax=4.5)\n",
    "    \n",
    "    # Figure style\n",
    "    for _, spine in ax.spines.items():\n",
    "        spine.set_visible(True)\n",
    "        spine.set_linewidth(2)\n",
    "        \n",
    "    ax.set_title(f'Substance: {substance}', y=1.02)\n",
    "    \n",
    "plt.tight_layout()"
   ]
  },
  {
   "cell_type": "code",
   "execution_count": 38,
   "id": "160f9ce8",
   "metadata": {},
   "outputs": [
    {
     "name": "stdout",
     "output_type": "stream",
     "text": [
      "4.5\n",
      "0.017753910240881365\n"
     ]
    },
    {
     "name": "stderr",
     "output_type": "stream",
     "text": [
      "C:\\Users\\Ines\\AppData\\Local\\Temp\\ipykernel_22588\\2314125988.py:37: DeprecationWarning: `np.float` is a deprecated alias for the builtin `float`. To silence this warning, use `float` by itself. Doing this will not modify any behavior and is safe. If you specifically wanted the numpy scalar type, use `np.float64` here.\n",
      "Deprecated in NumPy 1.20; for more details and guidance: https://numpy.org/devdocs/release/1.20.0-notes.html#deprecations\n",
      "  x_coords = np.array(coord_str.split(delimiter), dtype=np.float)\n",
      "C:\\Users\\Ines\\AppData\\Local\\Temp\\ipykernel_22588\\2314125988.py:41: DeprecationWarning: `np.float` is a deprecated alias for the builtin `float`. To silence this warning, use `float` by itself. Doing this will not modify any behavior and is safe. If you specifically wanted the numpy scalar type, use `np.float64` here.\n",
      "Deprecated in NumPy 1.20; for more details and guidance: https://numpy.org/devdocs/release/1.20.0-notes.html#deprecations\n",
      "  y_coords = np.array(coord_str.split(delimiter), dtype=np.float)\n",
      "C:\\Users\\Ines\\AppData\\Local\\Temp\\ipykernel_22588\\2314125988.py:45: DeprecationWarning: `np.float` is a deprecated alias for the builtin `float`. To silence this warning, use `float` by itself. Doing this will not modify any behavior and is safe. If you specifically wanted the numpy scalar type, use `np.float64` here.\n",
      "Deprecated in NumPy 1.20; for more details and guidance: https://numpy.org/devdocs/release/1.20.0-notes.html#deprecations\n",
      "  z_coords = np.array(coord_str.split(delimiter), dtype=np.float)\n"
     ]
    }
   ],
   "source": [
    "time = 12\n",
    "z_level = 0\n",
    "cmap = 'Reds'\n",
    "output_path = Path('../../../glucose/physicell-cluster-template/output/')\n",
    "\n",
    "# Read data\n",
    "me = Microenvironment(time, output_path)\n",
    "\n",
    "print(np.mean(me.data[\"glucose\"][:, 0, :]))\n",
    "print(np.mean(me.data[\"glucose\"][:, -1, :]))"
   ]
  },
  {
   "cell_type": "code",
   "execution_count": 9,
   "id": "f6e699a9",
   "metadata": {},
   "outputs": [
    {
     "name": "stderr",
     "output_type": "stream",
     "text": [
      "C:\\Users\\Ines\\AppData\\Local\\Temp\\ipykernel_6524\\2314125988.py:37: DeprecationWarning: `np.float` is a deprecated alias for the builtin `float`. To silence this warning, use `float` by itself. Doing this will not modify any behavior and is safe. If you specifically wanted the numpy scalar type, use `np.float64` here.\n",
      "Deprecated in NumPy 1.20; for more details and guidance: https://numpy.org/devdocs/release/1.20.0-notes.html#deprecations\n",
      "  x_coords = np.array(coord_str.split(delimiter), dtype=np.float)\n",
      "C:\\Users\\Ines\\AppData\\Local\\Temp\\ipykernel_6524\\2314125988.py:41: DeprecationWarning: `np.float` is a deprecated alias for the builtin `float`. To silence this warning, use `float` by itself. Doing this will not modify any behavior and is safe. If you specifically wanted the numpy scalar type, use `np.float64` here.\n",
      "Deprecated in NumPy 1.20; for more details and guidance: https://numpy.org/devdocs/release/1.20.0-notes.html#deprecations\n",
      "  y_coords = np.array(coord_str.split(delimiter), dtype=np.float)\n",
      "C:\\Users\\Ines\\AppData\\Local\\Temp\\ipykernel_6524\\2314125988.py:45: DeprecationWarning: `np.float` is a deprecated alias for the builtin `float`. To silence this warning, use `float` by itself. Doing this will not modify any behavior and is safe. If you specifically wanted the numpy scalar type, use `np.float64` here.\n",
      "Deprecated in NumPy 1.20; for more details and guidance: https://numpy.org/devdocs/release/1.20.0-notes.html#deprecations\n",
      "  z_coords = np.array(coord_str.split(delimiter), dtype=np.float)\n"
     ]
    },
    {
     "data": {
      "image/png": "[encoded data removed]",
      "text/plain": [
       "<Figure size 432x288 with 1 Axes>"
      ]
     },
     "metadata": {
      "needs_background": "light"
     },
     "output_type": "display_data"
    }
   ],
   "source": [
    "for time in range(8):\n",
    "    z_level = 0\n",
    "    cmap = 'Reds'\n",
    "    output_path = Path('../../../glucose/physicell-cluster-template/output/')\n",
    "\n",
    "    # Read data\n",
    "    me = Microenvironment(time, output_path)\n",
    "    \n",
    "    plt.scatter(time/4, np.mean(me.data[\"glucose\"][:, -1, :]), c=\"C1\")\n",
    "    \n",
    "plt.ylim(0, 1)\n",
    "sns.despine()"
   ]
  },
  {
   "cell_type": "code",
   "execution_count": 71,
   "id": "b9104e59",
   "metadata": {},
   "outputs": [
    {
     "name": "stderr",
     "output_type": "stream",
     "text": [
      "C:\\Users\\Ines\\AppData\\Local\\Temp\\ipykernel_6524\\2314125988.py:37: DeprecationWarning: `np.float` is a deprecated alias for the builtin `float`. To silence this warning, use `float` by itself. Doing this will not modify any behavior and is safe. If you specifically wanted the numpy scalar type, use `np.float64` here.\n",
      "Deprecated in NumPy 1.20; for more details and guidance: https://numpy.org/devdocs/release/1.20.0-notes.html#deprecations\n",
      "  x_coords = np.array(coord_str.split(delimiter), dtype=np.float)\n",
      "C:\\Users\\Ines\\AppData\\Local\\Temp\\ipykernel_6524\\2314125988.py:41: DeprecationWarning: `np.float` is a deprecated alias for the builtin `float`. To silence this warning, use `float` by itself. Doing this will not modify any behavior and is safe. If you specifically wanted the numpy scalar type, use `np.float64` here.\n",
      "Deprecated in NumPy 1.20; for more details and guidance: https://numpy.org/devdocs/release/1.20.0-notes.html#deprecations\n",
      "  y_coords = np.array(coord_str.split(delimiter), dtype=np.float)\n",
      "C:\\Users\\Ines\\AppData\\Local\\Temp\\ipykernel_6524\\2314125988.py:45: DeprecationWarning: `np.float` is a deprecated alias for the builtin `float`. To silence this warning, use `float` by itself. Doing this will not modify any behavior and is safe. If you specifically wanted the numpy scalar type, use `np.float64` here.\n",
      "Deprecated in NumPy 1.20; for more details and guidance: https://numpy.org/devdocs/release/1.20.0-notes.html#deprecations\n",
      "  z_coords = np.array(coord_str.split(delimiter), dtype=np.float)\n"
     ]
    }
   ],
   "source": [
    "bottom = [np.mean(Microenvironment(time, output_path).data[\"glucose\"][0, -47:, 0]) for time in range(17)]\n",
    "top = [np.mean(Microenvironment(time, output_path).data[\"glucose\"][0, :46, 0]) for time in range(17)]"
   ]
  },
  {
   "cell_type": "code",
   "execution_count": 72,
   "id": "0b0d5353",
   "metadata": {},
   "outputs": [
    {
     "data": {
      "image/png": "[encoded data removed]",
      "text/plain": [
       "<Figure size 432x288 with 1 Axes>"
      ]
     },
     "metadata": {
      "needs_background": "light"
     },
     "output_type": "display_data"
    }
   ],
   "source": [
    "plt.plot(np.arange(0, 97, 6), bottom, label=\"Bottom chamber\")\n",
    "plt.plot(np.arange(0, 97, 6), top, label=\"Top chamber\")\n",
    "\n",
    "plt.xlim(0, None)\n",
    "plt.ylim(0, 6.0)\n",
    "plt.legend()\n",
    "\n",
    "plt.xlabel(\"Time [hours]\", labelpad=15, fontsize=13)\n",
    "plt.ylabel(\"Glucose in bottom chamber [mg/mL]\", labelpad=15, fontsize=13)\n",
    "sns.despine()"
   ]
  },
  {
   "cell_type": "code",
   "execution_count": 62,
   "id": "c766d798",
   "metadata": {},
   "outputs": [
    {
     "name": "stderr",
     "output_type": "stream",
     "text": [
      "C:\\Users\\Ines\\AppData\\Local\\Temp\\ipykernel_6524\\2314125988.py:37: DeprecationWarning: `np.float` is a deprecated alias for the builtin `float`. To silence this warning, use `float` by itself. Doing this will not modify any behavior and is safe. If you specifically wanted the numpy scalar type, use `np.float64` here.\n",
      "Deprecated in NumPy 1.20; for more details and guidance: https://numpy.org/devdocs/release/1.20.0-notes.html#deprecations\n",
      "  x_coords = np.array(coord_str.split(delimiter), dtype=np.float)\n",
      "C:\\Users\\Ines\\AppData\\Local\\Temp\\ipykernel_6524\\2314125988.py:41: DeprecationWarning: `np.float` is a deprecated alias for the builtin `float`. To silence this warning, use `float` by itself. Doing this will not modify any behavior and is safe. If you specifically wanted the numpy scalar type, use `np.float64` here.\n",
      "Deprecated in NumPy 1.20; for more details and guidance: https://numpy.org/devdocs/release/1.20.0-notes.html#deprecations\n",
      "  y_coords = np.array(coord_str.split(delimiter), dtype=np.float)\n",
      "C:\\Users\\Ines\\AppData\\Local\\Temp\\ipykernel_6524\\2314125988.py:45: DeprecationWarning: `np.float` is a deprecated alias for the builtin `float`. To silence this warning, use `float` by itself. Doing this will not modify any behavior and is safe. If you specifically wanted the numpy scalar type, use `np.float64` here.\n",
      "Deprecated in NumPy 1.20; for more details and guidance: https://numpy.org/devdocs/release/1.20.0-notes.html#deprecations\n",
      "  z_coords = np.array(coord_str.split(delimiter), dtype=np.float)\n"
     ]
    },
    {
     "data": {
      "text/plain": [
       "array([4.37875669, 4.37716828, 4.37398448, 4.36919145, 4.36276863,\n",
       "       4.35468897, 4.34491934, 4.33342087, 4.32014946, 4.30505639,\n",
       "       4.28808888, 4.26919088, 4.24830379, 4.22536726, 4.20032014,\n",
       "       4.17310133, 4.14365075, 4.11191034, 4.07782503, 4.04134378,\n",
       "       4.00242055, 3.9610153 , 3.91709499, 3.87063444, 3.82161729,\n",
       "       3.77003679, 3.71589653, 3.65921117, 3.60000697, 3.53832232,\n",
       "       3.47420805, 3.40772776, 3.33895789, 3.26798773, 3.19491933,\n",
       "       3.11986719, 3.04295789, 2.96432955, 2.88413118, 2.80252189,\n",
       "       2.71967002, 2.6357521 , 2.55095179, 2.46545868, 2.37946703,\n",
       "       2.29317451])"
      ]
     },
     "execution_count": 62,
     "metadata": {},
     "output_type": "execute_result"
    }
   ],
   "source": [
    "Microenvironment(8, output_path).get_data()[\"glucose\"][0, :46, 0]"
   ]
  },
  {
   "cell_type": "code",
   "execution_count": 54,
   "id": "9bdb461e",
   "metadata": {},
   "outputs": [
    {
     "data": {
      "text/plain": [
       "46.0"
      ]
     },
     "execution_count": 54,
     "metadata": {},
     "output_type": "execute_result"
    }
   ],
   "source": [
    "920/20"
   ]
  },
  {
   "cell_type": "code",
   "execution_count": 66,
   "id": "f472bfda",
   "metadata": {},
   "outputs": [
    {
     "name": "stderr",
     "output_type": "stream",
     "text": [
      "C:\\Users\\Ines\\AppData\\Local\\Temp\\ipykernel_5092\\2314125988.py:37: DeprecationWarning: `np.float` is a deprecated alias for the builtin `float`. To silence this warning, use `float` by itself. Doing this will not modify any behavior and is safe. If you specifically wanted the numpy scalar type, use `np.float64` here.\n",
      "Deprecated in NumPy 1.20; for more details and guidance: https://numpy.org/devdocs/release/1.20.0-notes.html#deprecations\n",
      "  x_coords = np.array(coord_str.split(delimiter), dtype=np.float)\n",
      "C:\\Users\\Ines\\AppData\\Local\\Temp\\ipykernel_5092\\2314125988.py:41: DeprecationWarning: `np.float` is a deprecated alias for the builtin `float`. To silence this warning, use `float` by itself. Doing this will not modify any behavior and is safe. If you specifically wanted the numpy scalar type, use `np.float64` here.\n",
      "Deprecated in NumPy 1.20; for more details and guidance: https://numpy.org/devdocs/release/1.20.0-notes.html#deprecations\n",
      "  y_coords = np.array(coord_str.split(delimiter), dtype=np.float)\n",
      "C:\\Users\\Ines\\AppData\\Local\\Temp\\ipykernel_5092\\2314125988.py:45: DeprecationWarning: `np.float` is a deprecated alias for the builtin `float`. To silence this warning, use `float` by itself. Doing this will not modify any behavior and is safe. If you specifically wanted the numpy scalar type, use `np.float64` here.\n",
      "Deprecated in NumPy 1.20; for more details and guidance: https://numpy.org/devdocs/release/1.20.0-notes.html#deprecations\n",
      "  z_coords = np.array(coord_str.split(delimiter), dtype=np.float)\n"
     ]
    },
    {
     "data": {
      "text/plain": [
       "[array([-290., -270., -250., -230., -210., -190., -170., -150., -130.,\n",
       "        -110.,  -90.,  -70.,  -50.,  -30.,  -10.,   10.,   30.,   50.,\n",
       "          70.,   90.,  110.,  130.,  150.,  170.,  190.,  210.,  230.,\n",
       "         250.,  270.,  290.]),\n",
       " array([  10.,   30.,   50.,   70.,   90.,  110.,  130.,  150.,  170.,\n",
       "         190.,  210.,  230.,  250.,  270.,  290.,  310.,  330.,  350.,\n",
       "         370.,  390.,  410.,  430.,  450.,  470.,  490.,  510.,  530.,\n",
       "         550.,  570.,  590.,  610.,  630.,  650.,  670.,  690.,  710.,\n",
       "         730.,  750.,  770.,  790.,  810.,  830.,  850.,  870.,  890.,\n",
       "         910.,  930.,  950.,  970.,  990., 1010., 1030., 1050., 1070.,\n",
       "        1090., 1110., 1130., 1150., 1170., 1190., 1210., 1230., 1250.,\n",
       "        1270., 1290.]),\n",
       " array([0.])]"
      ]
     },
     "execution_count": 66,
     "metadata": {},
     "output_type": "execute_result"
    }
   ],
   "source": [
    "me.get_mesh()"
   ]
  }
 ],
 "metadata": {
  "kernelspec": {
   "display_name": "jupyter-viz",
   "language": "python",
   "name": "jupyter-viz"
  },
  "language_info": {
   "codemirror_mode": {
    "name": "ipython",
    "version": 3
   },
   "file_extension": ".py",
   "mimetype": "text/x-python",
   "name": "python",
   "nbconvert_exporter": "python",
   "pygments_lexer": "ipython3",
   "version": "3.9.5"
  }
 },
 "nbformat": 4,
 "nbformat_minor": 5
}
