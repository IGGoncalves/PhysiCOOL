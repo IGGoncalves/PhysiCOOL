{
 "cells": [
  {
   "cell_type": "code",
   "execution_count": 1,
   "id": "5ce512b6",
   "metadata": {},
   "outputs": [],
   "source": [
    "%matplotlib notebook\n",
    "from pathlib import Path\n",
    "\n",
    "from physicool.optimization import PhysiCellBlackBox\n",
    "from physicool.config import MotilityUpdater\n",
    "from physicool.processing import DistanceProcessor\n",
    "\n",
    "# Create our PhysiCell-based pipeline\n",
    "metric = 'position_y'\n",
    "project_name = 'project'\n",
    "\n",
    "updater = MotilityUpdater()\n",
    "processor = DistanceProcessor()\n",
    "my_model = PhysiCellBlackBox(updater, processor, \n",
    "                             project_path=Path(\"tests/PhysiCell\"))"
   ]
  },
  {
   "cell_type": "code",
   "execution_count": 2,
   "id": "cef06275",
   "metadata": {},
   "outputs": [
    {
     "name": "stdout",
     "output_type": "stream",
     "text": [
      "       ID  position_y  position_x  time\n",
      "0     0.0   92.844616   48.813502     0\n",
      "1     1.0  102.763370  344.265744     0\n",
      "2     2.0  347.251737   44.883177     0\n",
      "3     3.0  145.894115  123.563696     0\n",
      "4     4.0 -202.465395  -62.412790     0\n",
      "..    ...         ...         ...   ...\n",
      "338  63.0  369.813345   44.927635    15\n",
      "339  64.0  137.167315   34.233364    15\n",
      "340  65.0 -185.733829  -43.584933    15\n",
      "341  66.0  159.514112  131.062069    15\n",
      "342  69.0  113.544482   29.712427    15\n",
      "\n",
      "[343 rows x 4 columns]\n",
      "[array([92.84461639]), array([102.76337038]), array([347.25173726]), array([145.89411509]), array([-202.46539474])]\n"
     ]
    },
    {
     "data": {
      "text/plain": [
       "array([  92.84461639,  102.76337038,  347.25173726,  145.89411509,\n",
       "       -202.46539474])"
      ]
     },
     "execution_count": 2,
     "metadata": {},
     "output_type": "execute_result"
    }
   ],
   "source": [
    "my_model.run([5.0, 25.0, 0.5])"
   ]
  }
 ],
 "metadata": {
  "kernelspec": {
   "display_name": "Python 3 (ipykernel)",
   "language": "python",
   "name": "python3"
  },
  "language_info": {
   "codemirror_mode": {
    "name": "ipython",
    "version": 3
   },
   "file_extension": ".py",
   "mimetype": "text/x-python",
   "name": "python",
   "nbconvert_exporter": "python",
   "pygments_lexer": "ipython3",
   "version": "3.8.3"
  }
 },
 "nbformat": 4,
 "nbformat_minor": 5
}
