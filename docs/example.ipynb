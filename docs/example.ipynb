{
 "cells": [
  {
   "cell_type": "markdown",
   "metadata": {},
   "source": [
    "# Example usage\n",
    "\n",
    "Changing the values in the `PhysiCell_settings.xml` config file:"
   ]
  },
  {
   "cell_type": "code",
   "execution_count": 3,
   "metadata": {},
   "outputs": [],
   "source": [
    "from pathlib import Path\n",
    "\n",
    "from physicool.config import ConfigFileParser\n",
    "\n",
    "# Parse the data from the config file\n",
    "xml_data = ConfigFileParser(Path(\"../tests/config/PhysiCell_settings.xml\"))\n",
    "\n",
    "# Read the cell parameters for the \"default\" cell definition\n",
    "cell_data = xml_data.read_cell_data(\"default\")\n",
    "\n",
    "# Update the motility parameters\n",
    "cell_data.motility.speed = 20.0\n",
    "cell_data.motility.use_2d = True\n",
    "\n",
    "# Write the new parameters to the config file\n",
    "xml_data.update_params(cell_definition_name=\"default\", new_parameters=cell_data)"
   ]
  }
 ],
 "metadata": {
  "kernelspec": {
   "display_name": "Python 3 (ipykernel)",
   "language": "python",
   "name": "python3"
  },
  "language_info": {
   "codemirror_mode": {
    "name": "ipython",
    "version": 3
   },
   "file_extension": ".py",
   "mimetype": "text/x-python",
   "name": "python",
   "nbconvert_exporter": "python",
   "pygments_lexer": "ipython3",
   "version": "3.8.3"
  }
 },
 "nbformat": 4,
 "nbformat_minor": 4
}
