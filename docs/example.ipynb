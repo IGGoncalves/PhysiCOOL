{
 "cells": [
  {
   "cell_type": "markdown",
   "metadata": {},
   "source": [
    "# Example usage\n",
    "\n",
    "## Updating the config file\n",
    "\n",
    "Changing the values in the `PhysiCell_settings.xml` config file:"
   ]
  },
  {
   "cell_type": "code",
   "execution_count": 3,
   "metadata": {},
   "outputs": [],
   "source": [
    "from pathlib import Path\n",
    "\n",
    "from physicool.config import ConfigFileParser\n",
    "\n",
    "# Parse the data from the config file\n",
    "xml_data = ConfigFileParser(Path(\"../tests/config/PhysiCell_settings.xml\"))\n",
    "\n",
    "# Read the cell parameters for the \"default\" cell definition\n",
    "cell_data = xml_data.read_cell_data(\"default\")\n",
    "\n",
    "# Update the motility parameters\n",
    "cell_data.motility.speed = 20.0\n",
    "cell_data.motility.use_2d = True\n",
    "\n",
    "# Write the new parameters to the config file\n",
    "xml_data.update_params(cell_definition_name=\"default\", new_parameters=cell_data)"
   ]
  },
  {
   "cell_type": "markdown",
   "metadata": {},
   "source": [
    "## Running a compiled PhysiCell model"
   ]
  },
  {
   "cell_type": "code",
   "execution_count": 5,
   "metadata": {},
   "outputs": [],
   "source": [
    "from physicool.optimization import PhysiCellBlackBox\n",
    "\n",
    "# Create a black box model based on a PhysiCell executable\n",
    "# The black box updates the input parameters, runs the executable and returns the cell data\n",
    "bbox = PhysiCellBlackBox(project_name=\"project\", project_path=Path(\"../tests/PhysiCell\"))\n",
    "bbox.run()"
   ]
  },
  {
   "cell_type": "markdown",
   "metadata": {},
   "source": [
    "## Calling an external library to run a parameter sweep\n",
    "\n",
    "Too cool for PhysiCOOL? Don't want to use our parameter sweep? We can still help you 😎 \n",
    "\n",
    "`PhysiCellBlackBox` will give you the black box you need to link pretty much any library you want to use to run parameter studies/calibration with PhysiCell through Python. The only thing you need to assure is that the input and output formats match!\n",
    "\n",
    "Let's try an example for the motility study.\n",
    "\n",
    "Let's say you like using `psweep` and want to use it to call PhysiCell. You have to consider that psweet will accept any type of output, but requires a specific type of input. It is basically a dictionary with not only the parameters we define at the start, but also a bunch of data such as the time at which the run happened, the savings directory,... We don't need all that!\n",
    "\n",
    "So, we must create a new dictionary. It's pretty easy: just remove all the keys and values you don't need."
   ]
  },
  {
   "cell_type": "code",
   "execution_count": null,
   "metadata": {},
   "outputs": [],
   "source": [
    "def func(pset): \n",
    "    \"\"\"Builds a parameter dictionary and runs the OptModel model with it.\"\"\"\n",
    "    \n",
    "    params = {key: value\n",
    "              for key, value in pset.items()\n",
    "              if key in ['cell/speed', 'cell/migration_bias']}\n",
    "\n",
    "    metric = my_model(params)\n",
    "    return {'result': metric}\n",
    "\n",
    "# Choose parameters\n",
    "a = ps.plist('cell/speed', [1.0])\n",
    "b = ps.plist('cell/migration_bias', [0.2, 0.6])\n",
    "params = ps.pgrid(a,b)\n",
    "\n",
    "# Define \n",
    "df = ps.run_local(func, params)\n",
    "df.head()"
   ]
  }
 ],
 "metadata": {
  "kernelspec": {
   "display_name": "Python 3 (ipykernel)",
   "language": "python",
   "name": "python3"
  },
  "language_info": {
   "codemirror_mode": {
    "name": "ipython",
    "version": 3
   },
   "file_extension": ".py",
   "mimetype": "text/x-python",
   "name": "python",
   "nbconvert_exporter": "python",
   "pygments_lexer": "ipython3",
   "version": "3.8.3"
  }
 },
 "nbformat": 4,
 "nbformat_minor": 4
}
