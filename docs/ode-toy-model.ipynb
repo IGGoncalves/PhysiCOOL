{
 "cells": [
  {
   "cell_type": "markdown",
   "id": "verbal-drive",
   "metadata": {},
   "source": [
    "# ODE Toy Model"
   ]
  },
  {
   "cell_type": "code",
   "execution_count": 1,
   "id": "acknowledged-indonesia",
   "metadata": {},
   "outputs": [],
   "source": [
    "import numpy as np\n",
    "import scipy as sp\n",
    "import matplotlib.pyplot as plt\n",
    "import pandas as pd\n",
    "from mpl_toolkits import mplot3d"
   ]
  },
  {
   "cell_type": "markdown",
   "id": "periodic-pioneer",
   "metadata": {},
   "source": [
    "## Main goals\n",
    "**Let's say you have some data you would really like to replicate through your computational model. But... how can you do that?** Let's say you have some data with the evolution of number of cells through time. What parameters will you need to vary?\n",
    "\n",
    "PhysiCell is a big model and it may difficult to learn about parameter optimization AND follow the dynamics of what is happening inside of the model. So, let's keep it cool and start with a simpler problem 😎\n",
    "\n",
    "## Our problem\n",
    "We will use the example stated above: **we have some data on the number of cells through time.** \n",
    "\n",
    "Now, **we need a model**. We will assume that this data follows a **logistic growth rule**, which we can characterize with three parameters: \n",
    "- The initial number of cells, $N_0$;\n",
    "- The proliferation rate, $r$;\n",
    "- The carrying capacity, $K$\n",
    "\n",
    "The logistic growth can be described through the following expression:\n",
    "\n",
    "$\\frac{KN_0}{N_0 + (K-N_0)\\exp{(-rt)}}$\n",
    "\n",
    "\n",
    "## Generating data\n",
    "*Eh... we don't actually have data?*\n",
    "\n",
    "The first thing we need is to do is to **generate some data, which we will be using to calibrate our model**. We **could use real data** to calibrate our model, but we do not actually have any, so we will be generating a dataset with a given set of parameters. Then, we will try to **estimate those parameter values through our optimization algorithm**, as we would if we were not sure about their real values."
   ]
  },
  {
   "cell_type": "code",
   "execution_count": 2,
   "id": "current-university",
   "metadata": {},
   "outputs": [
    {
     "data": {
      "text/plain": [
       "<AxesSubplot:title={'center':'Generated data'}, xlabel='Time (Days)'>"
      ]
     },
     "execution_count": 2,
     "metadata": {},
     "output_type": "execute_result"
    },
    {
     "data": {
      "image/png": "[encoded data removed]",
      "text/plain": [
       "<Figure size 800x300 with 2 Axes>"
      ]
     },
     "metadata": {
      "needs_background": "light"
     },
     "output_type": "display_data"
    }
   ],
   "source": [
    "def logistic_growth_model(time, N0, K, r):\n",
    "    \"\"\"Returns a NumPy array with the number of cells through time for logistic growth.\"\"\"\n",
    "    cells = np.array(np.shape(time))\n",
    "    cells = K*N0/(N0 + (K-N0)*np.exp(-r*time))\n",
    "                                                                \n",
    "    return cells\n",
    "\n",
    "def plot_growth(time, data, ax, title, ylabel=True):\n",
    "    \"\"\"Plots and styles the evolution of cell number through time.\"\"\"\n",
    "    ax.scatter(time, data, s=30)\n",
    "    \n",
    "    ax.grid(axis='y', linestyle='--')\n",
    "    ax.spines['right'].set_visible(False)\n",
    "    ax.spines['top'].set_visible(False)\n",
    "    \n",
    "    if ylabel is True:\n",
    "        ax.set_ylabel('Number of Tumor Cells', fontsize=12, labelpad=10)\n",
    "        \n",
    "    ax.set_xlabel('Time (Days)', fontsize=12, labelpad=10)\n",
    "    ax.set_title(title, fontsize=12, y=1.05)\n",
    "    \n",
    "    return ax\n",
    "    \n",
    "\n",
    "# Generate logistic growth data\n",
    "start_time = 0\n",
    "stop_time = 100\n",
    "number_time_points = 10\n",
    "time = np.arange(start_time, stop_time, (stop_time-start_time)/number_time_points)\n",
    "\n",
    "# Dataset 1\n",
    "N_0 = 100\n",
    "proliferation_rate = 0.1\n",
    "carrying_capacity = 1000\n",
    "\n",
    "N_data = logistic_growth_model(time, N_0, carrying_capacity, proliferation_rate)\n",
    "\n",
    "# Dataset 2\n",
    "proliferation_rate = 0.2\n",
    "N_data_2 = logistic_growth_model(time, N_0, carrying_capacity, proliferation_rate)\n",
    "\n",
    "\n",
    "# Plot results\n",
    "fig, axes = plt.subplots(1, 2, figsize=(8, 3), dpi=100, sharey=True)\n",
    "\n",
    "plot_growth(time, N_data, axes[0], 'Generated data')\n",
    "plot_growth(time, N_data_2, axes[1], 'Generated data', ylabel=False)"
   ]
  },
  {
   "cell_type": "markdown",
   "id": "quantitative-gallery",
   "metadata": {},
   "source": [
    "## Optimization\n",
    "Now, we are able to generate new data| We will be **using our first dataset as our target data**, which was obtained with the parameter set ($r=0.1; K=1000$). \n",
    "\n",
    "### Comparing datasets\n",
    "Through our optimization process, we will generate new data with some **new parameter values** and assess if the results are similar to our target data. Based on that evaluation, we will be choosing a new set of parameters, in order to **minimize the difference between our datasets**. \n",
    "\n",
    "In this example, we will consider the **sum of the squared differences** between the target data and the new data. Let's compare the two datasets we generated before:"
   ]
  },
  {
   "cell_type": "code",
   "execution_count": 3,
   "id": "superior-savage",
   "metadata": {},
   "outputs": [
    {
     "name": "stdout",
     "output_type": "stream",
     "text": [
      "Difference between datasets: 319750.4944647962\n"
     ]
    }
   ],
   "source": [
    "def sum_squared_diff(model_data, reference_data):\n",
    "    \"\"\"Returns the summ of the squared differences between model and reference data.\"\"\"\n",
    "    error = ((model_data - reference_data)**2).sum()\n",
    "    \n",
    "    return error\n",
    "\n",
    "diff = sum_squared_diff(N_data, N_data_2)\n",
    "print(f'Difference between datasets: {diff}')"
   ]
  },
  {
   "cell_type": "markdown",
   "id": "verified-culture",
   "metadata": {},
   "source": [
    "This value tells us **how much our datasets differ**, and so we can conclude that **the parameters do not match exactly**, as we have a large difference value. However, it doesn't provide us with any information on how to get closer to the target value. Thus, **we need to test multiple parameter sets**, and then choose the one that minimizes the difference."
   ]
  },
  {
   "cell_type": "code",
   "execution_count": 4,
   "id": "recent-chemical",
   "metadata": {},
   "outputs": [
    {
     "name": "stdout",
     "output_type": "stream",
     "text": [
      "Difference between datasets (r=0.15): 132868.67411711058\n",
      "Difference between datasets (r=0.3): 607278.9243607549\n"
     ]
    }
   ],
   "source": [
    "# Lower proliferation (closer to target)\n",
    "proliferation_rate = 0.15\n",
    "N_data_3 = logistic_growth_model(time, N_0, carrying_capacity, proliferation_rate)\n",
    "\n",
    "diff = sum_squared_diff(N_data, N_data_3)\n",
    "print(f'Difference between datasets (r={proliferation_rate}): {diff}')\n",
    "\n",
    "# Higher proliferation\n",
    "proliferation_rate = 0.3\n",
    "N_data_3 = logistic_growth_model(time, N_0, carrying_capacity, proliferation_rate)\n",
    "\n",
    "diff = sum_squared_diff(N_data, N_data_3)\n",
    "print(f'Difference between datasets (r={proliferation_rate}): {diff}')"
   ]
  },
  {
   "cell_type": "markdown",
   "id": "protective-landing",
   "metadata": {},
   "source": [
    "In this case, we conclude that a proliferation rate of 0.15 gives us the best results, for now, and that high proliferation rates tend to result in larger differences. Hence, **we probably should look for lower proliferation rates!**\n",
    "\n",
    "Yet, here we are focusing on one parameter, but we have two... So, the best option is to **vary both of them** and evaluate the results.\n",
    "\n",
    "### Building a parameter search grid\n",
    "Let's start by creating a **search grid** that will **define the range of values we will be testing**. For each combination of this grid, we will **create a new dataset**, **compare the results** to our target data and **store the difference value**. Based on that, we will choose the parameters that better replicate the target data.\n",
    "\n",
    "To build this grid, we need to define the **center value** (we will go with our best result yet, ($r=0.15; K=1000$), as well as the **number of points we want to evaluate** for each parameter, and h**ow much we want to vary the parameter values**."
   ]
  },
  {
   "cell_type": "code",
   "execution_count": 5,
   "id": "latest-alexandria",
   "metadata": {},
   "outputs": [
    {
     "name": "stdout",
     "output_type": "stream",
     "text": [
      "Best value found for parameters: (0.0964, 1071.4286); error: 21922.635235464462\n"
     ]
    }
   ],
   "source": [
    "points_per_direction = 8\n",
    "percent_per_direction = 0.5\n",
    "about_point = np.array([0.15, 1000])\n",
    "\n",
    "# Create structures to store data\n",
    "parameters_in_sweep = np.zeros((2,1))\n",
    "objective_function = np.zeros((points_per_direction, points_per_direction))\n",
    "save_x = np.zeros((1, points_per_direction))\n",
    "save_y = np.zeros((1, points_per_direction))\n",
    "\n",
    "# Defining search bounds\n",
    "factor = percent_per_direction\n",
    "# Proliferation rate bounds\n",
    "min_prol_limit = about_point[0]-factor*about_point[0]\n",
    "max_prol_limit = about_point[0]+factor*about_point[0]\n",
    "prol_sweep = np.linspace(min_prol_limit, max_prol_limit, points_per_direction)\n",
    "# Carrying capacity bounds \n",
    "min_carcap_limit = about_point[1]-factor*about_point[1]\n",
    "max_carcap_limit = about_point[1]+factor*about_point[1]\n",
    "carcap_sweep = np.linspace(min_carcap_limit, max_carcap_limit, points_per_direction)\n",
    "\n",
    "save_x = prol_sweep\n",
    "save_y = carcap_sweep\n",
    "\n",
    "# Sweep through the parameter combinations\n",
    "for a in range(points_per_direction):\n",
    "    for b in range(points_per_direction):\n",
    "\n",
    "        # Select parameters and run the model\n",
    "        parameters_in_sweep[0] = prol_sweep[a]\n",
    "        parameters_in_sweep[1] = carcap_sweep[b]\n",
    "        N_model = logistic_growth_model(time, N_0, parameters_in_sweep[1], parameters_in_sweep[0])\n",
    "\n",
    "        # Compute error\n",
    "        objective_function[a][b] = sum_squared_diff(N_model, N_data)\n",
    "\n",
    "# Select best point in the parameter space\n",
    "# I is optimal index, but in references to a points_per_direction X points_per_direcion\n",
    "I = np.argmin(objective_function)\n",
    "x = int(np.floor(I/points_per_direction))\n",
    "y = int(I-points_per_direction*x)\n",
    "\n",
    "about_point[0] = prol_sweep[x]\n",
    "about_point[1] = carcap_sweep[y]\n",
    "\n",
    "new_x, new_y = [round(about_point[0], 4), round(about_point[1], 4)]\n",
    "error = objective_function.min()\n",
    "\n",
    "print(f'Best value found for parameters: ({new_x}, {new_y}); error: {error}')"
   ]
  },
  {
   "cell_type": "markdown",
   "id": "tropical-prophet",
   "metadata": {},
   "source": [
    "**We were able to get closer to our target values!** Since we have all the data stored, let's take a look at how the difference values vary based on the parameters values."
   ]
  },
  {
   "cell_type": "code",
   "execution_count": 6,
   "id": "massive-fifth",
   "metadata": {},
   "outputs": [
    {
     "data": {
      "image/png": "[encoded data removed]",
      "text/plain": [
       "<Figure size 432x432 with 2 Axes>"
      ]
     },
     "metadata": {
      "needs_background": "light"
     },
     "output_type": "display_data"
    }
   ],
   "source": [
    "from mpl_toolkits.axes_grid1 import make_axes_locatable\n",
    "\n",
    "# Plot the objective function\n",
    "fig, ax = plt.subplots(figsize=(6, 6))\n",
    "im = ax.imshow(objective_function, cmap='Spectral_r')\n",
    "\n",
    "# Show color bar\n",
    "divider = make_axes_locatable(ax)\n",
    "cax = divider.append_axes(\"right\", size=\"5%\", pad=0.05)\n",
    "cax.yaxis.set_label('Difference between datasets')\n",
    "plt.colorbar(im, cax=cax)\n",
    "\n",
    "# Assign the right parameter values to the grid\n",
    "ax.set_xticks(np.arange(len(save_y)))\n",
    "ax.set_yticks(np.arange(len(save_x)))\n",
    "\n",
    "ax.set_xticklabels(np.round(save_y, 4))\n",
    "ax.set_yticklabels(np.round(save_x, 4))\n",
    "\n",
    "# Set labels\n",
    "ax.set_ylabel('Carrying capacity', labelpad=15, fontsize=14)\n",
    "ax.set_xlabel('Proliferation rate', labelpad=15, fontsize=14)\n",
    "\n",
    "plt.setp(ax.get_xticklabels(), rotation=45, ha=\"right\",\n",
    "         rotation_mode=\"anchor\")\n",
    "\n",
    "ax.set_title('Objective function', y=1.01, fontsize=15)\n",
    "\n",
    "plt.gca().invert_yaxis()\n",
    "\n",
    "fig.tight_layout()\n",
    "plt.show()"
   ]
  },
  {
   "cell_type": "markdown",
   "id": "derived-drilling",
   "metadata": {},
   "source": [
    "### Multilevel search\n",
    "We could take this approach further by **performing another grid search**, using our new best point as the center point, and adjusting the grid size to **consider new points that may have been overlooked in the previous search**. This is the approach we used to build the PhysiCOOL multilevel sweep.\n",
    "\n",
    "At each level, we will be using the same strategy we used before. However, **we will be decreasing the search range** by setting a new factor, which reduces the range of the search grid **based on the current level**."
   ]
  },
  {
   "cell_type": "code",
   "execution_count": 7,
   "id": "square-payroll",
   "metadata": {},
   "outputs": [
    {
     "name": "stdout",
     "output_type": "stream",
     "text": [
      "New point: 0.0933, 1038.8889; error: 6454.836\n",
      "New point: 0.102, 981.1728; error: 1452.895\n",
      "New point: 0.1008, 992.0748; error: 254.9\n",
      "New point: 0.1, 999.9484; error: 0.142\n",
      "New point: 0.0994, 1006.1209; error: 151.741\n",
      "New point: 0.0999, 1001.0395; error: 4.571\n",
      "New point: 0.1004, 996.7615; error: 42.337\n"
     ]
    }
   ],
   "source": [
    "number_of_levels = 7\n",
    "points_per_direction = 10\n",
    "percent_per_direction = 0.5\n",
    "about_point = np.array([0.08, 1100.0])\n",
    "\n",
    "# Create structures to store data\n",
    "parameters_in_sweep = np.zeros((2,1))\n",
    "objective_function = np.zeros((number_of_levels, points_per_direction, points_per_direction))\n",
    "save_x = np.zeros((number_of_levels, points_per_direction))\n",
    "save_y = np.zeros((number_of_levels, points_per_direction))\n",
    "\n",
    "for n in range(number_of_levels):\n",
    "    \n",
    "    # Defining search bounds\n",
    "    factor = percent_per_direction/(n*2+1)\n",
    "    # Proliferation rate bounds\n",
    "    min_prol_limit = about_point[0]-factor*about_point[0]\n",
    "    max_prol_limit = about_point[0]+factor*about_point[0]\n",
    "    prol_sweep = np.linspace(min_prol_limit, max_prol_limit, points_per_direction)\n",
    "    # Carrying capacity bounds \n",
    "    min_carcap_limit = about_point[1]-factor*about_point[1]\n",
    "    max_carcap_limit = about_point[1]+factor*about_point[1]\n",
    "    carcap_sweep = np.linspace(min_carcap_limit, max_carcap_limit, points_per_direction)\n",
    "    \n",
    "    save_x[n] = prol_sweep\n",
    "    save_y[n] = carcap_sweep\n",
    "    \n",
    "    # Sweep through the parameter combinations\n",
    "    for a in range(points_per_direction):\n",
    "        for b in range(points_per_direction):\n",
    "            \n",
    "            # Select parameters and run the model\n",
    "            parameters_in_sweep[0] = prol_sweep[a]\n",
    "            parameters_in_sweep[1] = carcap_sweep[b]\n",
    "            N_model = logistic_growth_model(time, N_0, parameters_in_sweep[1], parameters_in_sweep[0])\n",
    "            \n",
    "            # Compute error\n",
    "            objective_function[n][a][b] = sum_squared_diff(N_model, N_data)\n",
    "\n",
    "    # Select best point in the parameter space\n",
    "    # I is optimal index, but in references to a points_per_direction X points_per_direcion\n",
    "    I = np.argmin(objective_function[n])\n",
    "    x = int(np.floor(I/points_per_direction))\n",
    "    y = int(I-points_per_direction*x)\n",
    "    \n",
    "    about_point[0] = prol_sweep[x]\n",
    "    about_point[1] = carcap_sweep[y]\n",
    "    \n",
    "    new_x, new_y = [round(about_point[0], 4), round(about_point[1], 4)]\n",
    "    error = objective_function[n].min()\n",
    "    \n",
    "    print(f'New point: {new_x}, {new_y}; error: {round(error, 3)}')"
   ]
  },
  {
   "cell_type": "markdown",
   "id": "powered-bradley",
   "metadata": {},
   "source": [
    "Want to see this in action in 3D? You can run our interactive model on Binder!\n",
    "\n",
    "[![Binder](https://mybinder.org/badge_logo.svg)](https://mybinder.org/v2/gh/IGGoncalves/PhysiCOOL/docs?labpath=%2Ftree%2Fexamples)"
   ]
  }
 ],
 "metadata": {
  "kernelspec": {
   "display_name": "Python 3 (ipykernel)",
   "language": "python",
   "name": "python3"
  },
  "language_info": {
   "codemirror_mode": {
    "name": "ipython",
    "version": 3
   },
   "file_extension": ".py",
   "mimetype": "text/x-python",
   "name": "python",
   "nbconvert_exporter": "python",
   "pygments_lexer": "ipython3",
   "version": "3.8.3"
  },
  "widgets": {
   "application/vnd.jupyter.widget-state+json": {
    "state": {},
    "version_major": 2,
    "version_minor": 0
   }
  }
 },
 "nbformat": 4,
 "nbformat_minor": 5
}
