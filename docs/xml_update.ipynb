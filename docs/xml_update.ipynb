{
 "cells": [
  {
   "cell_type": "markdown",
   "metadata": {},
   "source": [
    "# Configuration file parser\n",
    "\n",
    "PhysiCOOL introduces two data structures to interact with the `PhysiCell_settings.xml` file:\n",
    "\n",
    "- The `CellParameters` class, which stores all the variables for a given cell definition;\n",
    "- The `ConfigFileParser` which lets users read and write to the config file.\n",
    "\n",
    "Although these classes were developed to be part of the PhysiCOOL black-box model, they can be used on their own to programatically change the values in the PhysiCell configuration file.\n",
    "\n",
    "## Reading cell data\n",
    "\n",
    "Reading data from the config file can be done by creating a `ConfigFileParser` instance, which takes as input the path to the file. This class has a function called `read_cell_data`, whcih will read the data for a cell definition (passed as input) and store it in a Python data structure, the `CellParameters` class.\n",
    "\n",
    "Cell parameters are divided into groups as in the settings file (e.g., motility, mechanics, secretion,...), which can be accessed independently. The following commands read the data from a config file and print out the motility parameters."
   ]
  },
  {
   "cell_type": "code",
   "execution_count": 1,
   "metadata": {},
   "outputs": [
    {
     "name": "stdout",
     "output_type": "stream",
     "text": [
      "Print full cell data:\n",
      "CellParameters(name='default', volume=Volume(total_volume=2494.0, fluid_fraction=0.75, nuclear=540.0, fluid_change_rate=0.05, cyto_bio_rate=0.0045, nuclear_bio_rate=0.0055, calcified_fraction=0.0, calcification_rate=0.0, rupture_volume=2.0), mechanics=Mechanics(adhesion_strength=0.4, repulsion_strength=10.0, adhesion_distance=1.25), motility=Motility(speed=20.0, persistence=25.0, bias=0.5, motility_enabled=False, use_2d=True, chemo_enabled=False, chemo_substrate='substrate', chemo_direction=1.0), secretion=[Secretion(name=substrate, secretion_rate=0.0,secretion_target=1.0, uptake_rate=0.0,net_export_rate=0.0)])\n",
      "\n",
      "Access and print just the motility data:\n",
      "Motility(speed=20.0, persistence=25.0, bias=0.5, motility_enabled=False, use_2d=True, chemo_enabled=False, chemo_substrate='substrate', chemo_direction=1.0)\n"
     ]
    }
   ],
   "source": [
    "from physicool.config import ConfigFileParser\n",
    "\n",
    "file_path = \"../tests/PhysiCell/config/PhysiCell_settings.xml\"\n",
    "\n",
    "# Parse the data from the config file\n",
    "xml_data = ConfigFileParser(file_path)\n",
    "\n",
    "# Read the cell parameters for the \"default\" cell definition\n",
    "cell_data = xml_data.read_cell_data(\"default\")\n",
    "\n",
    "print(\"Print full cell data:\")\n",
    "print(cell_data)\n",
    "print(\"\\nAccess and print just the motility data:\")\n",
    "print(cell_data.motility)"
   ]
  },
  {
   "cell_type": "markdown",
   "metadata": {},
   "source": [
    "## Writing new data values\n",
    "\n",
    "Each parameter can also be accessed independently and their values can be changed. To write these chanegs to the XML file, the `ConfigFileParser` class includes a function called `update_params`, which takes as input the updated cell data structure and the name of the cell definition.\n",
    "\n",
    "For instance, the cell speed and the 2D status can be changed with the following commands:"
   ]
  },
  {
   "cell_type": "code",
   "execution_count": 2,
   "metadata": {},
   "outputs": [],
   "source": [
    "# Update and write the new parameters to the config file\n",
    "cell_data.motility.speed = 20.0\n",
    "cell_data.motility.use_2d = True\n",
    "\n",
    "xml_data.update_params(name=\"default\", new_parameters=cell_data)"
   ]
  }
 ],
 "metadata": {
  "kernelspec": {
   "display_name": "Python 3 (ipykernel)",
   "language": "python",
   "name": "python3"
  },
  "language_info": {
   "codemirror_mode": {
    "name": "ipython",
    "version": 3
   },
   "file_extension": ".py",
   "mimetype": "text/x-python",
   "name": "python",
   "nbconvert_exporter": "python",
   "pygments_lexer": "ipython3",
   "version": "3.8.3"
  }
 },
 "nbformat": 4,
 "nbformat_minor": 4
}
