{
 "cells": [
  {
   "cell_type": "markdown",
   "metadata": {},
   "source": [
    "# Config file parser\n",
    "\n",
    "PhysiCOOL introduces two data structures to interact with the `PhysiCell_settings.xml` file:\n",
    "\n",
    "- The `CellParameters` class, which stores all the variables for a given cell definition;\n",
    "- The `ConfigFileParser` which lets users read and write to the config file.\n",
    "\n",
    "## Reading cell data"
   ]
  },
  {
   "cell_type": "code",
   "execution_count": null,
   "metadata": {},
   "outputs": [],
   "source": [
    "from pathlib import Path\n",
    "\n",
    "from physicool.config import ConfigFileParser\n",
    "\n",
    "file_path = Path(\"../tests/PhysiCell/config/PhysiCell_settings.xml\")\n",
    "\n",
    "# Parse the data from the config file\n",
    "xml_data = ConfigFileParser(file_path)\n",
    "\n",
    "# Read the cell parameters for the \"default\" cell definition\n",
    "cell_data = xml_data.read_cell_data(\"default\")\n",
    "\n",
    "cell_data.print()"
   ]
  },
  {
   "cell_type": "markdown",
   "metadata": {},
   "source": [
    "## Writing to the config file"
   ]
  },
  {
   "cell_type": "code",
   "execution_count": null,
   "metadata": {},
   "outputs": [],
   "source": [
    "# Write the new parameters to the config file\n",
    "cell_data.motility.speed = 20.0\n",
    "cell_data.motility.use_2d = True\n",
    "\n",
    "xml_data.update_params(name=\"default\", new_parameters=cell_data)"
   ]
  }
 ],
 "metadata": {
  "kernelspec": {
   "display_name": "Python 3 (ipykernel)",
   "language": "python",
   "name": "python3"
  },
  "language_info": {
   "codemirror_mode": {
    "name": "ipython",
    "version": 3
   },
   "file_extension": ".py",
   "mimetype": "text/x-python",
   "name": "python",
   "nbconvert_exporter": "python",
   "pygments_lexer": "ipython3",
   "version": "3.8.3"
  }
 },
 "nbformat": 4,
 "nbformat_minor": 4
}
