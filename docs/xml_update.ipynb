{
 "cells": [
  {
   "cell_type": "markdown",
   "metadata": {},
   "source": [
    "# Configuration file parser\n",
    "\n",
    "PhysiCOOL lets you parse the values from the PhysiCell XML configuration file into Python objects which can be modified and used to write new values to the file. Data validation is performed when new values are written to these objects in order to ensure that the new values are consistent with PhysiCell.\n",
    "\n",
    "Although these classes were developed to be part of the PhysiCOOL black-box model, they can be used on their own to programatically change the values in the PhysiCell configuration file.\n",
    "\n",
    "## Reading data from the XML file\n",
    "\n",
    "Reading data from the config file can be done by creating a `ConfigFileParser` instance that takes as input the path to the file. This class has methods to read the different sections of the XML file and store the data in Python objects."
   ]
  },
  {
   "cell_type": "code",
   "execution_count": 6,
   "metadata": {},
   "outputs": [],
   "source": [
    "from physicool.config import ConfigFileParser\n",
    "\n",
    "file_path = \"../tests/data/settings.xml\"\n",
    "\n",
    "# Parse the data from the config file\n",
    "xml_data = ConfigFileParser(file_path)"
   ]
  },
  {
   "cell_type": "markdown",
   "metadata": {},
   "source": [
    "The data stored in these new objects follows the same structure as the configuration file. Here are some examples:"
   ]
  },
  {
   "cell_type": "code",
   "execution_count": 7,
   "metadata": {},
   "outputs": [
    {
     "name": "stdout",
     "output_type": "stream",
     "text": [
      "Domain data (x-axis): (-500,500)\n",
      "Decay rate for 'substrate': 10.0\n",
      "Cell cycle phase durations for 'default': [300.0, 480.0, 240.0, 60.0]\n",
      "Cell speed for 'default': 20.0\n",
      "random_seed: 0.0\n",
      "number_of_cells: 5.0\n"
     ]
    }
   ],
   "source": [
    "# Read and print out <domain> data\n",
    "domain_data = xml_data.read_domain_params()\n",
    "print(f\"Domain data (x-axis): ({domain_data.x_min},{domain_data.x_max})\")\n",
    "\n",
    "# Read and print out <microenvironment_setup> data\n",
    "substrates = xml_data.read_me_params()\n",
    "print(f\"Decay rate for '{substrates[0].name}': {substrates[0].decay_rate}\")\n",
    "\n",
    "# Read and print out <cell_definitions> data\n",
    "cell_data = xml_data.read_cell_data(name=\"default\")\n",
    "print(f\"Cell cycle phase durations for 'default': {cell_data.cycle.phase_durations}\")\n",
    "print(f\"Cell speed for 'default': {cell_data.motility.speed}\")\n",
    "\n",
    "# Read and print out <user_parameters> data\n",
    "user_data = xml_data.read_user_params()\n",
    "for user_param in user_data:\n",
    "    print(f\"{user_param.name}: {user_param.value}\")"
   ]
  },
  {
   "cell_type": "markdown",
   "metadata": {},
   "source": [
    "## Writing new data values\n",
    "\n",
    "Each parameter can also be accessed independently and their values can be changed. The `ConfigFileParser` class includes includes methods to write these changes to the XML file. For instance, the cell speed and the 2D status can be changed with the following commands:"
   ]
  },
  {
   "cell_type": "code",
   "execution_count": 8,
   "metadata": {},
   "outputs": [],
   "source": [
    "# Update and write the new parameters to the config file\n",
    "cell_data.motility.speed = 20.0\n",
    "cell_data.motility.use_2d = True\n",
    "\n",
    "xml_data.write_motility_params(name=\"default\", motility=cell_data.motility)"
   ]
  },
  {
   "cell_type": "markdown",
   "metadata": {},
   "source": [
    "When new values are defined, data validation is performed. For instance, if we update the migration bias (which should be between 0 and 1), we get an error stating that the upper bound for this parameter is 1."
   ]
  },
  {
   "cell_type": "code",
   "execution_count": 9,
   "metadata": {},
   "outputs": [
    {
     "ename": "ValidationError",
     "evalue": "1 validation error for Motility\nmigration_bias\n  ensure this value is less than or equal to 1.0 (type=value_error.number.not_le; limit_value=1.0)",
     "output_type": "error",
     "traceback": [
      "\u001b[0;31m---------------------------------------------------------------------------\u001b[0m",
      "\u001b[0;31mValidationError\u001b[0m                           Traceback (most recent call last)",
      "Input \u001b[0;32mIn [9]\u001b[0m, in \u001b[0;36m<cell line: 1>\u001b[0;34m()\u001b[0m\n\u001b[0;32m----> 1\u001b[0m cell_data\u001b[38;5;241m.\u001b[39mmotility\u001b[38;5;241m.\u001b[39mmigration_bias \u001b[38;5;241m=\u001b[39m \u001b[38;5;241m2.0\u001b[39m\n",
      "File \u001b[0;32m~/.cache/pypoetry/virtualenvs/physicool-5MIHs8S3-py3.8/lib/python3.8/site-packages/pydantic/main.py:380\u001b[0m, in \u001b[0;36mpydantic.main.BaseModel.__setattr__\u001b[0;34m()\u001b[0m\n",
      "\u001b[0;31mValidationError\u001b[0m: 1 validation error for Motility\nmigration_bias\n  ensure this value is less than or equal to 1.0 (type=value_error.number.not_le; limit_value=1.0)"
     ]
    }
   ],
   "source": [
    "cell_data.motility.migration_bias = 2.0"
   ]
  },
  {
   "cell_type": "markdown",
   "metadata": {},
   "source": [
    "If several cell parameters are changed, it is possible to use the `write_cell_params` method to update all fields."
   ]
  },
  {
   "cell_type": "code",
   "execution_count": 10,
   "metadata": {},
   "outputs": [],
   "source": [
    "cell_data.mechanics.cell_cell_adhesion_strength = 4.0\n",
    "cell_data.volume.calcification_rate = 1.0\n",
    "\n",
    "xml_data.write_cell_params(cell_data)"
   ]
  }
 ],
 "metadata": {
  "kernelspec": {
   "display_name": "Python 3 (ipykernel)",
   "language": "python",
   "name": "python3"
  },
  "language_info": {
   "codemirror_mode": {
    "name": "ipython",
    "version": 3
   },
   "file_extension": ".py",
   "mimetype": "text/x-python",
   "name": "python",
   "nbconvert_exporter": "python",
   "pygments_lexer": "ipython3",
   "version": "3.8.3"
  }
 },
 "nbformat": 4,
 "nbformat_minor": 4
}
