{
 "cells": [
  {
   "cell_type": "markdown",
   "metadata": {},
   "source": [
    "# Using PhysiCOOL with third-party libraries\n",
    "\n",
    "The `BlackBoxModel` class can be used in combination with other libraries to perform parameter studies and optimization routines that have still not been implemented in PhysiCOOL.\n",
    "\n",
    "Here, we describe how to couple our approach with the [psweep](https://github.com/elcorto/psweep) library, which can be used to set up and run parameter studies. The PhysiCell project used is the one described in the motility example. \n",
    "\n",
    "A Pandas DataFrame is created by `psweep` with the model outputs for each parameter set and some additional information (run_id, run_time...). Results are also stored in a folder called `calc`.\n",
    "\n",
    "This approach can be used with other libraries, as users see fit.\n",
    "\n",
    "> **Note for users running this notebook locally:** You will need to install psweep (using pip install)\n",
    "\n",
    "## Compiling the PhysiCell project"
   ]
  },
  {
   "cell_type": "code",
   "execution_count": 6,
   "metadata": {},
   "outputs": [
    {
     "name": "stdout",
     "output_type": "stream",
     "text": [
      "g++ -march=native  -O3 -fomit-frame-pointer -mfpmath=both -fopenmp -m64 -std=c++11  -c ./BioFVM/BioFVM_vector.cpp \n",
      "g++ -march=native  -O3 -fomit-frame-pointer -mfpmath=both -fopenmp -m64 -std=c++11  -c ./BioFVM/BioFVM_mesh.cpp \n",
      "g++ -march=native  -O3 -fomit-frame-pointer -mfpmath=both -fopenmp -m64 -std=c++11  -c ./BioFVM/BioFVM_microenvironment.cpp \n",
      "g++ -march=native  -O3 -fomit-frame-pointer -mfpmath=both -fopenmp -m64 -std=c++11  -c ./BioFVM/BioFVM_solvers.cpp \n",
      "g++ -march=native  -O3 -fomit-frame-pointer -mfpmath=both -fopenmp -m64 -std=c++11  -c ./BioFVM/BioFVM_matlab.cpp\n",
      "g++ -march=native  -O3 -fomit-frame-pointer -mfpmath=both -fopenmp -m64 -std=c++11  -c ./BioFVM/BioFVM_utilities.cpp \n",
      "g++ -march=native  -O3 -fomit-frame-pointer -mfpmath=both -fopenmp -m64 -std=c++11  -c ./BioFVM/BioFVM_basic_agent.cpp \n",
      "g++ -march=native  -O3 -fomit-frame-pointer -mfpmath=both -fopenmp -m64 -std=c++11  -c ./BioFVM/BioFVM_MultiCellDS.cpp\n",
      "g++ -march=native  -O3 -fomit-frame-pointer -mfpmath=both -fopenmp -m64 -std=c++11  -c ./BioFVM/BioFVM_agent_container.cpp \n",
      "g++ -march=native  -O3 -fomit-frame-pointer -mfpmath=both -fopenmp -m64 -std=c++11  -c ./BioFVM/pugixml.cpp\n",
      "g++ -march=native  -O3 -fomit-frame-pointer -mfpmath=both -fopenmp -m64 -std=c++11  -c ./core/PhysiCell_phenotype.cpp\n",
      "g++ -march=native  -O3 -fomit-frame-pointer -mfpmath=both -fopenmp -m64 -std=c++11  -c ./core/PhysiCell_cell_container.cpp \n",
      "g++ -march=native  -O3 -fomit-frame-pointer -mfpmath=both -fopenmp -m64 -std=c++11  -c ./core/PhysiCell_standard_models.cpp \n",
      "g++ -march=native  -O3 -fomit-frame-pointer -mfpmath=both -fopenmp -m64 -std=c++11  -c ./core/PhysiCell_cell.cpp \n",
      "g++ -march=native  -O3 -fomit-frame-pointer -mfpmath=both -fopenmp -m64 -std=c++11  -c ./core/PhysiCell_custom.cpp \n",
      "g++ -march=native  -O3 -fomit-frame-pointer -mfpmath=both -fopenmp -m64 -std=c++11  -c ./core/PhysiCell_utilities.cpp \n",
      "g++ -march=native  -O3 -fomit-frame-pointer -mfpmath=both -fopenmp -m64 -std=c++11  -c ./core/PhysiCell_constants.cpp \n",
      "g++ -march=native  -O3 -fomit-frame-pointer -mfpmath=both -fopenmp -m64 -std=c++11  -c ./core/PhysiCell_basic_signaling.cpp \t\n",
      "g++ -march=native  -O3 -fomit-frame-pointer -mfpmath=both -fopenmp -m64 -std=c++11  -c ./core/PhysiCell_signal_behavior.cpp \n",
      "g++ -march=native  -O3 -fomit-frame-pointer -mfpmath=both -fopenmp -m64 -std=c++11  -c ./modules/PhysiCell_SVG.cpp\n",
      "g++ -march=native  -O3 -fomit-frame-pointer -mfpmath=both -fopenmp -m64 -std=c++11  -c ./modules/PhysiCell_pathology.cpp\n",
      "g++ -march=native  -O3 -fomit-frame-pointer -mfpmath=both -fopenmp -m64 -std=c++11  -c ./modules/PhysiCell_MultiCellDS.cpp\n",
      "g++ -march=native  -O3 -fomit-frame-pointer -mfpmath=both -fopenmp -m64 -std=c++11  -c ./modules/PhysiCell_various_outputs.cpp\n",
      "g++ -march=native  -O3 -fomit-frame-pointer -mfpmath=both -fopenmp -m64 -std=c++11  -c ./modules/PhysiCell_pugixml.cpp\n",
      "g++ -march=native  -O3 -fomit-frame-pointer -mfpmath=both -fopenmp -m64 -std=c++11  -c ./modules/PhysiCell_settings.cpp\n",
      "g++ -march=native  -O3 -fomit-frame-pointer -mfpmath=both -fopenmp -m64 -std=c++11  -c ./modules/PhysiCell_geometry.cpp \n"
     ]
    },
    {
     "name": "stderr",
     "output_type": "stream",
     "text": [
      "./modules/PhysiCell_geometry.cpp: In function ‘bool PhysiCell::load_cells_from_pugixml(pugi::xml_node)’:\n",
      "./modules/PhysiCell_geometry.cpp:304:9: warning: ignoring return value of ‘int system(const char*)’, declared with attribute warn_unused_result [-Wunused-result]\n",
      "  304 |   system(\"sleep 1\");\n",
      "      |   ~~~~~~^~~~~~~~~~~\n"
     ]
    },
    {
     "name": "stdout",
     "output_type": "stream",
     "text": [
      "g++ -march=native  -O3 -fomit-frame-pointer -mfpmath=both -fopenmp -m64 -std=c++11  -c ./custom_modules/custom.cpp\n",
      "g++ -march=native  -O3 -fomit-frame-pointer -mfpmath=both -fopenmp -m64 -std=c++11  -o project BioFVM_vector.o BioFVM_mesh.o BioFVM_microenvironment.o BioFVM_solvers.o BioFVM_matlab.o BioFVM_utilities.o BioFVM_basic_agent.o BioFVM_MultiCellDS.o BioFVM_agent_container.o   pugixml.o PhysiCell_phenotype.o PhysiCell_cell_container.o PhysiCell_standard_models.o PhysiCell_cell.o PhysiCell_custom.o PhysiCell_utilities.o PhysiCell_constants.o PhysiCell_basic_signaling.o PhysiCell_signal_behavior.o  PhysiCell_SVG.o PhysiCell_pathology.o PhysiCell_MultiCellDS.o PhysiCell_various_outputs.o PhysiCell_pugixml.o PhysiCell_settings.o PhysiCell_geometry.o custom.o main.cpp \n"
     ]
    },
    {
     "name": "stderr",
     "output_type": "stream",
     "text": [
      "main.cpp: In function ‘int main(int, char**)’:\n",
      "main.cpp:106:8: warning: ignoring return value of ‘int system(const char*)’, declared with attribute warn_unused_result [-Wunused-result]\n",
      "  106 |  system( copy_command );\n",
      "      |  ~~~~~~^~~~~~~~~~~~~~~~\n"
     ]
    },
    {
     "name": "stdout",
     "output_type": "stream",
     "text": [
      "make name\n",
      "make[1]: Entering directory '/home/ines/Documents/GitHub/PhysiCOOL/examples/third_party'\n",
      "\n",
      "Executable name is project\n",
      "\n",
      "make[1]: Leaving directory '/home/ines/Documents/GitHub/PhysiCOOL/examples/third_party'\n"
     ]
    }
   ],
   "source": [
    "from physicool import optimization as opt\n",
    "\n",
    "# Compiles the project and creates a black box object for it\n",
    "opt.compile_project() "
   ]
  },
  {
   "attachments": {},
   "cell_type": "markdown",
   "metadata": {},
   "source": [
    "## Running the `psweep` parameter study"
   ]
  },
  {
   "cell_type": "code",
   "execution_count": 7,
   "metadata": {},
   "outputs": [
    {
     "data": {
      "text/html": [
       "<div>\n",
       "<style scoped>\n",
       "    .dataframe tbody tr th:only-of-type {\n",
       "        vertical-align: middle;\n",
       "    }\n",
       "\n",
       "    .dataframe tbody tr th {\n",
       "        vertical-align: top;\n",
       "    }\n",
       "\n",
       "    .dataframe thead th {\n",
       "        text-align: right;\n",
       "    }\n",
       "</style>\n",
       "<table border=\"1\" class=\"dataframe\">\n",
       "  <thead>\n",
       "    <tr style=\"text-align: right;\">\n",
       "      <th></th>\n",
       "      <th>migration_bias</th>\n",
       "      <th>speed</th>\n",
       "      <th>_pset_hash</th>\n",
       "      <th>_run_id</th>\n",
       "      <th>_pset_id</th>\n",
       "      <th>_calc_dir</th>\n",
       "      <th>_time_utc</th>\n",
       "      <th>_pset_seq</th>\n",
       "      <th>_run_seq</th>\n",
       "      <th>result</th>\n",
       "      <th>_pset_runtime</th>\n",
       "    </tr>\n",
       "  </thead>\n",
       "  <tbody>\n",
       "    <tr>\n",
       "      <th>0</th>\n",
       "      <td>0.2</td>\n",
       "      <td>1.0</td>\n",
       "      <td>cd3eeb3b2452a69eac62b2d2d76d9f29c1d19be4</td>\n",
       "      <td>03829a88-1b29-4fd4-990a-e195896d77b9</td>\n",
       "      <td>3181be1c-e931-40d4-9129-8d9628673bb7</td>\n",
       "      <td>calc</td>\n",
       "      <td>2023-01-29 23:54:29.291671753</td>\n",
       "      <td>0</td>\n",
       "      <td>0</td>\n",
       "      <td>[-491.465719040412, -152.6958488711255, -490.8...</td>\n",
       "      <td>2.493991</td>\n",
       "    </tr>\n",
       "    <tr>\n",
       "      <th>1</th>\n",
       "      <td>0.6</td>\n",
       "      <td>1.0</td>\n",
       "      <td>5a9a45aab62d3a8fed2acdc73b803e96429a24f4</td>\n",
       "      <td>03829a88-1b29-4fd4-990a-e195896d77b9</td>\n",
       "      <td>32f3b479-2f19-4d27-8eea-fd9826a075b8</td>\n",
       "      <td>calc</td>\n",
       "      <td>2023-01-29 23:54:31.788334370</td>\n",
       "      <td>1</td>\n",
       "      <td>0</td>\n",
       "      <td>[-236.23958073395102, -107.25965253084702, -25...</td>\n",
       "      <td>2.428913</td>\n",
       "    </tr>\n",
       "  </tbody>\n",
       "</table>\n",
       "</div>"
      ],
      "text/plain": [
       "   migration_bias  speed                                _pset_hash  \\\n",
       "0             0.2    1.0  cd3eeb3b2452a69eac62b2d2d76d9f29c1d19be4   \n",
       "1             0.6    1.0  5a9a45aab62d3a8fed2acdc73b803e96429a24f4   \n",
       "\n",
       "                                _run_id                              _pset_id  \\\n",
       "0  03829a88-1b29-4fd4-990a-e195896d77b9  3181be1c-e931-40d4-9129-8d9628673bb7   \n",
       "1  03829a88-1b29-4fd4-990a-e195896d77b9  32f3b479-2f19-4d27-8eea-fd9826a075b8   \n",
       "\n",
       "  _calc_dir                     _time_utc  _pset_seq  _run_seq  \\\n",
       "0      calc 2023-01-29 23:54:29.291671753          0         0   \n",
       "1      calc 2023-01-29 23:54:31.788334370          1         0   \n",
       "\n",
       "                                              result  _pset_runtime  \n",
       "0  [-491.465719040412, -152.6958488711255, -490.8...       2.493991  \n",
       "1  [-236.23958073395102, -107.25965253084702, -25...       2.428913  "
      ]
     },
     "execution_count": 7,
     "metadata": {},
     "output_type": "execute_result"
    }
   ],
   "source": [
    "from physicool. optimization import PhysiCellBlackBox\n",
    "from physicool.updaters import CellUpdater, update_motility_values\n",
    "from physicool.processing import get_final_y_position\n",
    "\n",
    "import psweep as ps\n",
    "import shutil\n",
    "\n",
    "# Compiles the project and creates a black box object for it\n",
    "# opt.compile_project()    \n",
    "black_box = PhysiCellBlackBox()\n",
    "\n",
    "# Define the updater we want to use (change motility data)\n",
    "updater = CellUpdater(updater_function=update_motility_values,\n",
    "                     config_path=\"config/PhysiCell_settings.xml\", \n",
    "                     cell_definition_name=\"default\")\n",
    "\n",
    "# Assign the updater and processor to the black box\n",
    "black_box.updater = updater\n",
    "black_box.processor = get_final_y_position\n",
    "\n",
    "def func(pset): \n",
    "    \"\"\"\n",
    "    Runs the black box model with the values selected by psweep.\n",
    "    \"\"\"\n",
    "    shutil.rmtree(\"temp\", ignore_errors=True)\n",
    "    metric = black_box.run(pset)\n",
    "    return {'result': metric}\n",
    "\n",
    "# Choose parameters\n",
    "# (Creates a grid [[\"speed\": 1.0, \"bias\": 0.2],\n",
    "#                  [\"speed\": 1.0, \"bias\": 0.6]])\n",
    "a = ps.plist('migration_bias', [0.2, 0.6])\n",
    "b = ps.plist('speed', [1.0])\n",
    "params = ps.pgrid(a,b)\n",
    "\n",
    "# Get a DataFrame with all the simulation results\n",
    "# psweep will run func() with each pair of the params grid\n",
    "df = ps.run_local(func, params)\n",
    "df.head()"
   ]
  }
 ],
 "metadata": {
  "kernelspec": {
   "display_name": "Python 3",
   "language": "python",
   "name": "python3"
  },
  "language_info": {
   "codemirror_mode": {
    "name": "ipython",
    "version": 3
   },
   "file_extension": ".py",
   "mimetype": "text/x-python",
   "name": "python",
   "nbconvert_exporter": "python",
   "pygments_lexer": "ipython3",
   "version": "3.8.3"
  },
  "orig_nbformat": 4,
  "vscode": {
   "interpreter": {
    "hash": "d4a98098438d60081d94c01a7f38a93ca67c23d78a3c99734010558eb46b020f"
   }
  }
 },
 "nbformat": 4,
 "nbformat_minor": 2
}
