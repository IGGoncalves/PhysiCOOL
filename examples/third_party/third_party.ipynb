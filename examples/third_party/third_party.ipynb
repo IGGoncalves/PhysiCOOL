{
 "cells": [
  {
   "cell_type": "markdown",
   "metadata": {},
   "source": [
    "# Using PhysiCOOL with third-party libraries\n",
    "\n",
    "The `BlackBoxModel` class can be used in combination with other libraries to perform parameter studies and optimization routines that have still not been implemented in PhysiCOOL.\n",
    "\n",
    "Here, we describe how to couple our approach with the [psweep](https://github.com/elcorto/psweep) library, which can be used to set up and run parameter studies. The PhysiCell project used is the one described in the motility example. \n",
    "\n",
    "A Pandas DataFrame is created by `psweep` with the model outputs for each parameter set and some additional information (run_id, run_time...). Results are also stored in a folder called `calc`.\n",
    "\n",
    "This approach can be used with other libraries, as users see fit."
   ]
  },
  {
   "cell_type": "code",
   "execution_count": 3,
   "metadata": {},
   "outputs": [
    {
     "name": "stdout",
     "output_type": "stream",
     "text": [
      "7\n",
      "7\n"
     ]
    },
    {
     "data": {
      "text/html": [
       "<div>\n",
       "<style scoped>\n",
       "    .dataframe tbody tr th:only-of-type {\n",
       "        vertical-align: middle;\n",
       "    }\n",
       "\n",
       "    .dataframe tbody tr th {\n",
       "        vertical-align: top;\n",
       "    }\n",
       "\n",
       "    .dataframe thead th {\n",
       "        text-align: right;\n",
       "    }\n",
       "</style>\n",
       "<table border=\"1\" class=\"dataframe\">\n",
       "  <thead>\n",
       "    <tr style=\"text-align: right;\">\n",
       "      <th></th>\n",
       "      <th>migration_bias</th>\n",
       "      <th>speed</th>\n",
       "      <th>_pset_hash</th>\n",
       "      <th>_run_id</th>\n",
       "      <th>_pset_id</th>\n",
       "      <th>_calc_dir</th>\n",
       "      <th>_time_utc</th>\n",
       "      <th>_pset_seq</th>\n",
       "      <th>_run_seq</th>\n",
       "      <th>result</th>\n",
       "      <th>_pset_runtime</th>\n",
       "    </tr>\n",
       "  </thead>\n",
       "  <tbody>\n",
       "    <tr>\n",
       "      <th>0</th>\n",
       "      <td>0.2</td>\n",
       "      <td>1.0</td>\n",
       "      <td>cd3eeb3b2452a69eac62b2d2d76d9f29c1d19be4</td>\n",
       "      <td>9ec01f6a-04f5-43eb-912d-681f2500fddf</td>\n",
       "      <td>927eca1d-3f1b-4d27-8b75-89b4e54ad23a</td>\n",
       "      <td>calc</td>\n",
       "      <td>2023-01-29 01:20:12.194588423</td>\n",
       "      <td>0</td>\n",
       "      <td>0</td>\n",
       "      <td>[-358.2384435597154, -370.81487854572885, -492...</td>\n",
       "      <td>2.256011</td>\n",
       "    </tr>\n",
       "    <tr>\n",
       "      <th>1</th>\n",
       "      <td>0.6</td>\n",
       "      <td>1.0</td>\n",
       "      <td>5a9a45aab62d3a8fed2acdc73b803e96429a24f4</td>\n",
       "      <td>9ec01f6a-04f5-43eb-912d-681f2500fddf</td>\n",
       "      <td>33edce7b-5f0f-492c-b043-762893160346</td>\n",
       "      <td>calc</td>\n",
       "      <td>2023-01-29 01:20:14.452884197</td>\n",
       "      <td>1</td>\n",
       "      <td>0</td>\n",
       "      <td>[-207.14016181371065, -290.39345420489684, -18...</td>\n",
       "      <td>2.230646</td>\n",
       "    </tr>\n",
       "  </tbody>\n",
       "</table>\n",
       "</div>"
      ],
      "text/plain": [
       "   migration_bias  speed                                _pset_hash  \\\n",
       "0             0.2    1.0  cd3eeb3b2452a69eac62b2d2d76d9f29c1d19be4   \n",
       "1             0.6    1.0  5a9a45aab62d3a8fed2acdc73b803e96429a24f4   \n",
       "\n",
       "                                _run_id                              _pset_id  \\\n",
       "0  9ec01f6a-04f5-43eb-912d-681f2500fddf  927eca1d-3f1b-4d27-8b75-89b4e54ad23a   \n",
       "1  9ec01f6a-04f5-43eb-912d-681f2500fddf  33edce7b-5f0f-492c-b043-762893160346   \n",
       "\n",
       "  _calc_dir                     _time_utc  _pset_seq  _run_seq  \\\n",
       "0      calc 2023-01-29 01:20:12.194588423          0         0   \n",
       "1      calc 2023-01-29 01:20:14.452884197          1         0   \n",
       "\n",
       "                                              result  _pset_runtime  \n",
       "0  [-358.2384435597154, -370.81487854572885, -492...       2.256011  \n",
       "1  [-207.14016181371065, -290.39345420489684, -18...       2.230646  "
      ]
     },
     "execution_count": 3,
     "metadata": {},
     "output_type": "execute_result"
    }
   ],
   "source": [
    "from physicool. optimization import PhysiCellBlackBox\n",
    "from physicool.updaters import CellUpdater, update_motility_values\n",
    "from physicool.processing import get_final_y_position\n",
    "\n",
    "import psweep as ps\n",
    "import shutil\n",
    "\n",
    "# Compiles the project and creates a black box object for it\n",
    "# opt.compile_project()    \n",
    "black_box = PhysiCellBlackBox()\n",
    "\n",
    "# Define the updater we want to use (change motility data)\n",
    "updater = CellUpdater(updater_function=update_motility_values,\n",
    "                     config_path=\"config/PhysiCell_settings.xml\", \n",
    "                     cell_definition_name=\"default\")\n",
    "\n",
    "# Assign the updater and processor to the black box\n",
    "black_box.updater = updater\n",
    "black_box.processor = get_final_y_position\n",
    "black_box.version = \"1.9.1\"\n",
    "\n",
    "def func(pset): \n",
    "    \"\"\"\n",
    "    Runs the black box model with the values selected by psweep.\n",
    "    \"\"\"\n",
    "    shutil.rmtree(\"temp\", ignore_errors=True)\n",
    "    metric = black_box.run(pset)\n",
    "    return {'result': metric}\n",
    "\n",
    "# Choose parameters\n",
    "# (Creates a grid [[\"speed\": 1.0, \"bias\": 0.2],\n",
    "#                  [\"speed\": 1.0, \"bias\": 0.6]])\n",
    "a = ps.plist('migration_bias', [0.2, 0.6])\n",
    "b = ps.plist('speed', [1.0])\n",
    "params = ps.pgrid(a,b)\n",
    "\n",
    "# Get a DataFrame with all the simulation results\n",
    "# psweep will run func() with each pair of the params grid\n",
    "df = ps.run_local(func, params)\n",
    "df.head()"
   ]
  }
 ],
 "metadata": {
  "kernelspec": {
   "display_name": "Python 3",
   "language": "python",
   "name": "python3"
  },
  "language_info": {
   "codemirror_mode": {
    "name": "ipython",
    "version": 3
   },
   "file_extension": ".py",
   "mimetype": "text/x-python",
   "name": "python",
   "nbconvert_exporter": "python",
   "pygments_lexer": "ipython3",
   "version": "3.8.3"
  },
  "orig_nbformat": 4,
  "vscode": {
   "interpreter": {
    "hash": "d4a98098438d60081d94c01a7f38a93ca67c23d78a3c99734010558eb46b020f"
   }
  }
 },
 "nbformat": 4,
 "nbformat_minor": 2
}
