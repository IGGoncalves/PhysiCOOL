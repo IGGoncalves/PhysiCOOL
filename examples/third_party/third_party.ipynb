{
 "cells": [
  {
   "cell_type": "markdown",
   "metadata": {},
   "source": [
    "# Using PhysiCOOL with third-party libraries\n",
    "\n",
    "The `BlackBoxModel` class can be used in combination with other libraries to perform parameter studies and optimization routines that have still not been implemented in PhysiCOOL.\n",
    "\n",
    "Here, we describe how to couple our approach with the [psweep](https://github.com/elcorto/psweep) library, which can be used to set up and run parameter studies. The PhysiCell project used is the one described in the motility example. \n",
    "\n",
    "A Pandas DataFrame is created by `psweep` with the model outputs for each parameter set and some additional information (run_id, run_time...). Results are also stored in a folder called `calc`.\n",
    "\n",
    "This approach can be used with other libraries, as users see fit.\n",
    "\n",
    "> **Note for users running this notebook locally:** You will need to install psweep (using pip install)\n",
    "\n",
    "## Compiling the PhysiCell project"
   ]
  },
  {
   "cell_type": "code",
   "execution_count": 2,
   "metadata": {},
   "outputs": [],
   "source": [
    "from physicool import optimization as opt\n",
    "\n",
    "# Compiles the project and creates a black box object for it\n",
    "opt.compile_project() "
   ]
  },
  {
   "cell_type": "markdown",
   "metadata": {},
   "source": [
    "## Running the `psweep` parameter study"
   ]
  },
  {
   "cell_type": "code",
   "execution_count": 3,
   "metadata": {},
   "outputs": [
    {
     "data": {
      "text/html": [
       "<div>\n",
       "<style scoped>\n",
       "    .dataframe tbody tr th:only-of-type {\n",
       "        vertical-align: middle;\n",
       "    }\n",
       "\n",
       "    .dataframe tbody tr th {\n",
       "        vertical-align: top;\n",
       "    }\n",
       "\n",
       "    .dataframe thead th {\n",
       "        text-align: right;\n",
       "    }\n",
       "</style>\n",
       "<table border=\"1\" class=\"dataframe\">\n",
       "  <thead>\n",
       "    <tr style=\"text-align: right;\">\n",
       "      <th></th>\n",
       "      <th>migration_bias</th>\n",
       "      <th>speed</th>\n",
       "      <th>_pset_hash</th>\n",
       "      <th>_run_id</th>\n",
       "      <th>_pset_id</th>\n",
       "      <th>_calc_dir</th>\n",
       "      <th>_time_utc</th>\n",
       "      <th>_pset_seq</th>\n",
       "      <th>_run_seq</th>\n",
       "      <th>result</th>\n",
       "      <th>_pset_runtime</th>\n",
       "    </tr>\n",
       "  </thead>\n",
       "  <tbody>\n",
       "    <tr>\n",
       "      <th>0</th>\n",
       "      <td>0.2</td>\n",
       "      <td>1.0</td>\n",
       "      <td>cd3eeb3b2452a69eac62b2d2d76d9f29c1d19be4</td>\n",
       "      <td>bb11e8ba-d24c-431f-97a9-c6ef22262eff</td>\n",
       "      <td>99548b15-f01b-4a14-a35f-ddca078d750e</td>\n",
       "      <td>calc</td>\n",
       "      <td>2023-02-08 22:08:57.772333145</td>\n",
       "      <td>0</td>\n",
       "      <td>0</td>\n",
       "      <td>[-491.465719040412, -152.6958488711255, -490.8...</td>\n",
       "      <td>2.476987</td>\n",
       "    </tr>\n",
       "    <tr>\n",
       "      <th>1</th>\n",
       "      <td>0.6</td>\n",
       "      <td>1.0</td>\n",
       "      <td>5a9a45aab62d3a8fed2acdc73b803e96429a24f4</td>\n",
       "      <td>bb11e8ba-d24c-431f-97a9-c6ef22262eff</td>\n",
       "      <td>a087fed7-2241-417c-8d2b-5bece85525c8</td>\n",
       "      <td>calc</td>\n",
       "      <td>2023-02-08 22:09:00.252892494</td>\n",
       "      <td>1</td>\n",
       "      <td>0</td>\n",
       "      <td>[-236.23958073395102, -107.25965253084702, -25...</td>\n",
       "      <td>2.344300</td>\n",
       "    </tr>\n",
       "  </tbody>\n",
       "</table>\n",
       "</div>"
      ],
      "text/plain": [
       "   migration_bias  speed                                _pset_hash  \\\n",
       "0             0.2    1.0  cd3eeb3b2452a69eac62b2d2d76d9f29c1d19be4   \n",
       "1             0.6    1.0  5a9a45aab62d3a8fed2acdc73b803e96429a24f4   \n",
       "\n",
       "                                _run_id                              _pset_id  \\\n",
       "0  bb11e8ba-d24c-431f-97a9-c6ef22262eff  99548b15-f01b-4a14-a35f-ddca078d750e   \n",
       "1  bb11e8ba-d24c-431f-97a9-c6ef22262eff  a087fed7-2241-417c-8d2b-5bece85525c8   \n",
       "\n",
       "  _calc_dir                     _time_utc  _pset_seq  _run_seq  \\\n",
       "0      calc 2023-02-08 22:08:57.772333145          0         0   \n",
       "1      calc 2023-02-08 22:09:00.252892494          1         0   \n",
       "\n",
       "                                              result  _pset_runtime  \n",
       "0  [-491.465719040412, -152.6958488711255, -490.8...       2.476987  \n",
       "1  [-236.23958073395102, -107.25965253084702, -25...       2.344300  "
      ]
     },
     "execution_count": 3,
     "metadata": {},
     "output_type": "execute_result"
    }
   ],
   "source": [
    "from physicool. optimization import PhysiCellBlackBox\n",
    "from physicool.updaters import CellUpdater, update_motility_values\n",
    "from physicool.processing import get_final_y_position\n",
    "\n",
    "import psweep as ps\n",
    "import shutil\n",
    "\n",
    "# Compiles the project and creates a black box object for it\n",
    "# opt.compile_project()    \n",
    "black_box = PhysiCellBlackBox()\n",
    "\n",
    "# Define the updater we want to use (change motility data)\n",
    "updater = CellUpdater(updater_function=update_motility_values,\n",
    "                     config_path=\"config/PhysiCell_settings.xml\", \n",
    "                     cell_definition_name=\"default\")\n",
    "\n",
    "# Assign the updater and processor to the black box\n",
    "black_box.updater = updater\n",
    "black_box.processor = get_final_y_position\n",
    "\n",
    "def func(pset): \n",
    "    \"\"\"\n",
    "    Runs the black box model with the values selected by psweep.\n",
    "    \"\"\"\n",
    "    shutil.rmtree(\"temp\", ignore_errors=True)\n",
    "    metric = black_box.run(pset)\n",
    "    return {'result': metric}\n",
    "\n",
    "# Choose parameters\n",
    "# (Creates a grid [[\"speed\": 1.0, \"bias\": 0.2],\n",
    "#                  [\"speed\": 1.0, \"bias\": 0.6]])\n",
    "a = ps.plist('migration_bias', [0.2, 0.6])\n",
    "b = ps.plist('speed', [1.0])\n",
    "params = ps.pgrid(a,b)\n",
    "\n",
    "# Get a DataFrame with all the simulation results\n",
    "# psweep will run func() with each pair of the params grid\n",
    "df = ps.run_local(func, params)\n",
    "df.head()"
   ]
  }
 ],
 "metadata": {
  "kernelspec": {
   "display_name": "Python 3 (ipykernel)",
   "language": "python",
   "name": "python3"
  },
  "language_info": {
   "codemirror_mode": {
    "name": "ipython",
    "version": 3
   },
   "file_extension": ".py",
   "mimetype": "text/x-python",
   "name": "python",
   "nbconvert_exporter": "python",
   "pygments_lexer": "ipython3",
   "version": "3.8.3"
  },
  "vscode": {
   "interpreter": {
    "hash": "d4a98098438d60081d94c01a7f38a93ca67c23d78a3c99734010558eb46b020f"
   }
  }
 },
 "nbformat": 4,
 "nbformat_minor": 2
}
