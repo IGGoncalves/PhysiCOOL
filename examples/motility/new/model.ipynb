{
 "cells": [],
 "metadata": {
  "kernelspec": {
   "display_name": "Python 3.8.3 ('physicool-OOBbAbNd-py3.8')",
   "language": "python",
   "name": "python3"
  },
  "language_info": {
   "name": "python",
   "version": "3.8.3"
  },
  "orig_nbformat": 4,
  "vscode": {
   "interpreter": {
    "hash": "18b1c7d81badfc7c827ca948b63a3427112512df36367fc18b996d8698f8782e"
   }
  }
 },
 "nbformat": 4,
 "nbformat_minor": 2
}
